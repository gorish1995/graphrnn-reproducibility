{
 "cells": [
  {
   "cell_type": "code",
   "execution_count": 16,
   "metadata": {},
   "outputs": [],
   "source": [
    "import sys\n",
    "sys.path.append(\"graph-traingle_1/\")\n",
    "from utils import *\n",
    "import networkx as nx\n",
    "import numpy as np\n",
    "import fnmatch\n",
    "\n",
    "from os import listdir\n",
    "from os.path import isfile, join\n",
    "mypath = \"graph-citeseer/graphs/\"\n",
    "onlyfiles = [f for f in listdir(mypath) if isfile(join(mypath, f))]\n"
   ]
  },
  {
   "cell_type": "code",
   "execution_count": 17,
   "metadata": {},
   "outputs": [],
   "source": [
    "graphs = pickle.load(open(\"graph-citeseer/graphs/GraphRNN_RNN_citeseer_4_128_train_0.dat\", 'rb'))\n"
   ]
  },
  {
   "cell_type": "code",
   "execution_count": 18,
   "metadata": {},
   "outputs": [],
   "source": [
    "draw_graph_list(graphs[0:20], 5, 4, fname='graph-citeseer/figures/GraphRNN_RNN_train_0.png')\n"
   ]
  },
  {
   "cell_type": "code",
   "execution_count": 19,
   "metadata": {},
   "outputs": [
    {
     "name": "stdout",
     "output_type": "stream",
     "text": [
      "graph-citeseer/graphs/GraphRNN_RNN_citeseer_4_128_pred_2800_1.dat\n",
      "graph-citeseer/graphs/GraphRNN_RNN_citeseer_4_128_pred_3000_1.dat\n",
      "graph-citeseer/graphs/GraphRNN_RNN_citeseer_4_128_pred_2900_1.dat\n",
      "graph-citeseer/graphs/GraphRNN_RNN_citeseer_4_128_pred_2700_1.dat\n",
      "graph-citeseer/graphs/GraphRNN_RNN_citeseer_4_128_pred_2600_1.dat\n"
     ]
    }
   ],
   "source": [
    "for file in onlyfiles:\n",
    "#     graphs = load_graph_list(\"copy_grnn_10k/graph-generation/graphs/\" + i)\n",
    "    if 'citeseer' in file and (fnmatch.fnmatch(file, \"*pred_[2][6-9]0*\") or fnmatch.fnmatch(file, \"*pred_3000*\")): \n",
    "        \n",
    "        graphs = pickle.load(open(\"graph-citeseer/graphs/\" + file, 'rb'))\n",
    "        \n",
    "        print(\"graph-citeseer/graphs/\" + file)\n",
    "    #     for i in range(20):\n",
    "        draw_graph_list(graphs, 5, 4, fname='graph-citeseer/figures/cora_' + file + \"_\")\n"
   ]
  },
  {
   "cell_type": "code",
   "execution_count": null,
   "metadata": {},
   "outputs": [],
   "source": []
  },
  {
   "cell_type": "code",
   "execution_count": null,
   "metadata": {},
   "outputs": [],
   "source": []
  },
  {
   "cell_type": "code",
   "execution_count": null,
   "metadata": {},
   "outputs": [],
   "source": []
  },
  {
   "cell_type": "code",
   "execution_count": null,
   "metadata": {},
   "outputs": [],
   "source": []
  },
  {
   "cell_type": "code",
   "execution_count": null,
   "metadata": {},
   "outputs": [],
   "source": []
  },
  {
   "cell_type": "code",
   "execution_count": null,
   "metadata": {},
   "outputs": [],
   "source": []
  },
  {
   "cell_type": "code",
   "execution_count": null,
   "metadata": {},
   "outputs": [],
   "source": []
  }
 ],
 "metadata": {
  "kernelspec": {
   "display_name": "Python 3",
   "language": "python",
   "name": "python3"
  },
  "language_info": {
   "codemirror_mode": {
    "name": "ipython",
    "version": 3
   },
   "file_extension": ".py",
   "mimetype": "text/x-python",
   "name": "python",
   "nbconvert_exporter": "python",
   "pygments_lexer": "ipython3",
   "version": "3.7.4"
  }
 },
 "nbformat": 4,
 "nbformat_minor": 2
}
