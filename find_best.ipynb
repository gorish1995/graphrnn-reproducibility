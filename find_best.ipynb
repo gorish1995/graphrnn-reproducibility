{
 "cells": [
  {
   "cell_type": "code",
   "execution_count": 3,
   "metadata": {},
   "outputs": [],
   "source": [
    "import sys\n",
    "sys.path.append(\"graph-traingle_1/\")\n",
    "from utils import *\n",
    "import networkx as nx\n",
    "import numpy as np\n",
    "import fnmatch\n",
    "\n",
    "from os import listdir\n",
    "from os.path import isfile, join\n",
    "mypath = \"copy_grnn_enz/graph-generation/graphs/\"\n",
    "onlyfiles = [f for f in listdir(mypath) if isfile(join(mypath, f))]\n"
   ]
  },
  {
   "cell_type": "code",
   "execution_count": 2,
   "metadata": {},
   "outputs": [],
   "source": [
    "graphs = pickle.load(open(\"graph-traingle_1/graphs/GraphRNN_RNN_grid_4_128_pred_2900_1.dat\", 'rb'))\n",
    "draw_graph_list(graphs[0:20], 5, 4, fname='triangle')\n"
   ]
  },
  {
   "cell_type": "code",
   "execution_count": 2,
   "metadata": {},
   "outputs": [],
   "source": [
    "graphs = pickle.load(open(\"graph-hexa/graphs/GraphRNN_RNN_grid_4_128_pred_3000_1.dat\", 'rb'))\n",
    "draw_graph_list(graphs[0:20], 5, 4, fname='hexa')\n"
   ]
  },
  {
   "cell_type": "code",
   "execution_count": 4,
   "metadata": {},
   "outputs": [],
   "source": [
    "graphs = pickle.load(open(\"graph-hexa/graphs/GraphRNN_RNN_grid_4_128_test_0.dat\", 'rb'))\n",
    "draw_graph_list(graphs[0:20], 5, 4, fname='hexa_train')\n"
   ]
  },
  {
   "cell_type": "code",
   "execution_count": 2,
   "metadata": {},
   "outputs": [],
   "source": [
    "graphs = pickle.load(open(\"graph-citeseer/graphs/GraphRNN_RNN_citeseer_4_128_pred_3000_1.dat\", 'rb'))\n",
    "draw_graph_list(graphs[0:20], 5, 4, fname='citeseer')"
   ]
  },
  {
   "cell_type": "code",
   "execution_count": 8,
   "metadata": {},
   "outputs": [],
   "source": [
    "graphs = pickle.load(open(\"graph-cora/graphs/GraphRNN_RNN_citeseer_4_128_pred_2600_1.dat\", 'rb'))\n",
    "draw_graph_list(graphs[0:20], 5, 4, fname='cora')"
   ]
  },
  {
   "cell_type": "code",
   "execution_count": 2,
   "metadata": {},
   "outputs": [],
   "source": [
    "graphs = pickle.load(open(\"graph_grid_lowvar/graphs/GraphRNN_RNN_grid_4_128_pred_3000_1.dat\", 'rb'))\n",
    "draw_graph_list(graphs[0:20], 5, 4, fname='small_grid')"
   ]
  },
  {
   "cell_type": "code",
   "execution_count": 4,
   "metadata": {},
   "outputs": [],
   "source": [
    "graphs = pickle.load(open(\"graph_grid_lowvar/graphs/GraphRNN_RNN_grid_4_128_train_0.dat\", 'rb'))\n",
    "draw_graph_list(graphs[0:20], 5, 4, fname='small_grid_train')"
   ]
  },
  {
   "cell_type": "code",
   "execution_count": null,
   "metadata": {},
   "outputs": [],
   "source": [
    "graphs = pickle.load(open(\"graph-cora/graphs/GraphRNN_RNN_citeseer_4_128_pred_2400_1.dat\", 'rb'))\n",
    "draw_graph_list(graphs[0:20], 5, 4, fname='cora')"
   ]
  },
  {
   "cell_type": "code",
   "execution_count": null,
   "metadata": {},
   "outputs": [],
   "source": []
  },
  {
   "cell_type": "code",
   "execution_count": null,
   "metadata": {},
   "outputs": [],
   "source": []
  },
  {
   "cell_type": "code",
   "execution_count": 5,
   "metadata": {},
   "outputs": [],
   "source": [
    "graphs = pickle.load(open(\"copy_grnn_enz/graph-generation/graphs/GraphRNN_RNN_enzymes_4_128_train_0.dat\", 'rb'))\n",
    "draw_graph_list(graphs[0:20], 5, 4, fname='enz_train')"
   ]
  },
  {
   "cell_type": "code",
   "execution_count": 7,
   "metadata": {},
   "outputs": [
    {
     "name": "stdout",
     "output_type": "stream",
     "text": [
      "copy_grnn_enz/graph-generation/graphs/GraphRNN_RNN_DD_4_128_pred_2200_1.dat\n",
      "copy_grnn_enz/graph-generation/graphs/GraphRNN_RNN_DD_4_128_pred_200_1.dat\n",
      "copy_grnn_enz/graph-generation/graphs/GraphRNN_RNN_DD_4_128_pred_2100_1.dat\n",
      "copy_grnn_enz/graph-generation/graphs/GraphRNN_RNN_DD_4_128_pred_2000_1.dat\n"
     ]
    }
   ],
   "source": [
    "for file in onlyfiles:\n",
    "#     graphs = load_graph_list(\"copy_grnn_10k/graph-generation/graphs/\" + i)\n",
    "    if 'DD' in file and (fnmatch.fnmatch(file, \"*pred_[2]*0*\") or fnmatch.fnmatch(file, \"*pred_3000*\")): \n",
    "        \n",
    "        graphs = pickle.load(open(\"copy_grnn_enz/graph-generation/graphs/\" + file, 'rb'))\n",
    "        \n",
    "        print(\"copy_grnn_enz/graph-generation/graphs/\" + file)\n",
    "    #     for i in range(20):\n",
    "        draw_graph_list(graphs, 5, 4, fname='copy_grnn_enz/graph-generation/figures/enz' + file + \"_\")\n"
   ]
  },
  {
   "cell_type": "code",
   "execution_count": null,
   "metadata": {},
   "outputs": [],
   "source": []
  },
  {
   "cell_type": "code",
   "execution_count": null,
   "metadata": {},
   "outputs": [],
   "source": []
  },
  {
   "cell_type": "code",
   "execution_count": null,
   "metadata": {},
   "outputs": [],
   "source": [
    "for i in range(20):\n",
    "    print(onlyfiles[i], fnmatch.fnmatch(onlyfiles[i], \"*pred_[1-3]*0*\"))"
   ]
  },
  {
   "cell_type": "code",
   "execution_count": null,
   "metadata": {},
   "outputs": [],
   "source": [
    "filtered"
   ]
  },
  {
   "cell_type": "code",
   "execution_count": null,
   "metadata": {},
   "outputs": [],
   "source": [
    "onlyfiles[0]"
   ]
  },
  {
   "cell_type": "code",
   "execution_count": null,
   "metadata": {},
   "outputs": [],
   "source": [
    "onlyfiles[0]"
   ]
  },
  {
   "cell_type": "code",
   "execution_count": null,
   "metadata": {},
   "outputs": [],
   "source": []
  }
 ],
 "metadata": {
  "kernelspec": {
   "display_name": "Python 3",
   "language": "python",
   "name": "python3"
  },
  "language_info": {
   "codemirror_mode": {
    "name": "ipython",
    "version": 3
   },
   "file_extension": ".py",
   "mimetype": "text/x-python",
   "name": "python",
   "nbconvert_exporter": "python",
   "pygments_lexer": "ipython3",
   "version": "3.7.4"
  }
 },
 "nbformat": 4,
 "nbformat_minor": 2
}
